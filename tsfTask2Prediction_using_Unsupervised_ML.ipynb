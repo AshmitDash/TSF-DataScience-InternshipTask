{
  "nbformat": 4,
  "nbformat_minor": 0,
  "metadata": {
    "colab": {
      "name": "tsfTask2Prediction using Unsupervised ML.ipynb",
      "provenance": [],
      "collapsed_sections": [],
      "mount_file_id": "1XQvpK4MpR8NQYD9xnvukz5EL4dglysKP",
      "authorship_tag": "ABX9TyNDbdNGhpYN/5wAOIGoVHMH",
      "include_colab_link": true
    },
    "kernelspec": {
      "name": "python3",
      "display_name": "Python 3"
    }
  },
  "cells": [
    {
      "cell_type": "markdown",
      "metadata": {
        "id": "view-in-github",
        "colab_type": "text"
      },
      "source": [
        "<a href=\"https://colab.research.google.com/github/AshmitDash/TSF-DataScience-InternshipTask/blob/main/tsfTask2Prediction_using_Unsupervised_ML.ipynb\" target=\"_parent\"><img src=\"https://colab.research.google.com/assets/colab-badge.svg\" alt=\"Open In Colab\"/></a>"
      ]
    },
    {
      "cell_type": "markdown",
      "metadata": {
        "id": "uNgmnz8uPVK8"
      },
      "source": [
        "# **ASHMIT DASH**"
      ]
    },
    {
      "cell_type": "markdown",
      "metadata": {
        "id": "oT-1oCzLPwHK"
      },
      "source": [
        "### **TASK 2**: From the given ‘Iris’ dataset, predict the optimum number of clusters\r\n",
        "### and represent it visually."
      ]
    },
    {
      "cell_type": "markdown",
      "metadata": {
        "id": "ySt0AD1sVP-N"
      },
      "source": [
        "# **IMPORTING LIBRARIES**"
      ]
    },
    {
      "cell_type": "code",
      "metadata": {
        "id": "6GLjibX7QCf0"
      },
      "source": [
        "# Importing all required libraries \r\n",
        "import numpy as np\r\n",
        "import matplotlib.pyplot as plt\r\n",
        "import pandas as pd\r\n",
        "from sklearn import datasets\r\n",
        "from sklearn.cluster import KMeans\r\n",
        "from matplotlib import style"
      ],
      "execution_count": 42,
      "outputs": []
    },
    {
      "cell_type": "markdown",
      "metadata": {
        "id": "BAryP7c0VUQ6"
      },
      "source": [
        "# **Loading Iris Data**"
      ]
    },
    {
      "cell_type": "code",
      "metadata": {
        "colab": {
          "base_uri": "https://localhost:8080/",
          "height": 407
        },
        "id": "LGQIy8aRQNda",
        "outputId": "865d7a4f-36d5-45ce-ebcf-19e4ba19fad9"
      },
      "source": [
        "# Reading the data \r\n",
        "iris_df = pd.read_csv(\"/content/drive/MyDrive/Iris.csv\", index_col = 0)\r\n",
        "print(\"Let's see a part of the whole dataset \")\r\n",
        "iris_df.head(10)"
      ],
      "execution_count": 43,
      "outputs": [
        {
          "output_type": "stream",
          "text": [
            "Let's see a part of the whole dataset \n"
          ],
          "name": "stdout"
        },
        {
          "output_type": "execute_result",
          "data": {
            "text/html": [
              "<div>\n",
              "<style scoped>\n",
              "    .dataframe tbody tr th:only-of-type {\n",
              "        vertical-align: middle;\n",
              "    }\n",
              "\n",
              "    .dataframe tbody tr th {\n",
              "        vertical-align: top;\n",
              "    }\n",
              "\n",
              "    .dataframe thead th {\n",
              "        text-align: right;\n",
              "    }\n",
              "</style>\n",
              "<table border=\"1\" class=\"dataframe\">\n",
              "  <thead>\n",
              "    <tr style=\"text-align: right;\">\n",
              "      <th></th>\n",
              "      <th>SepalLengthCm</th>\n",
              "      <th>SepalWidthCm</th>\n",
              "      <th>PetalLengthCm</th>\n",
              "      <th>PetalWidthCm</th>\n",
              "      <th>Species</th>\n",
              "    </tr>\n",
              "    <tr>\n",
              "      <th>Id</th>\n",
              "      <th></th>\n",
              "      <th></th>\n",
              "      <th></th>\n",
              "      <th></th>\n",
              "      <th></th>\n",
              "    </tr>\n",
              "  </thead>\n",
              "  <tbody>\n",
              "    <tr>\n",
              "      <th>1</th>\n",
              "      <td>5.1</td>\n",
              "      <td>3.5</td>\n",
              "      <td>1.4</td>\n",
              "      <td>0.2</td>\n",
              "      <td>Iris-setosa</td>\n",
              "    </tr>\n",
              "    <tr>\n",
              "      <th>2</th>\n",
              "      <td>4.9</td>\n",
              "      <td>3.0</td>\n",
              "      <td>1.4</td>\n",
              "      <td>0.2</td>\n",
              "      <td>Iris-setosa</td>\n",
              "    </tr>\n",
              "    <tr>\n",
              "      <th>3</th>\n",
              "      <td>4.7</td>\n",
              "      <td>3.2</td>\n",
              "      <td>1.3</td>\n",
              "      <td>0.2</td>\n",
              "      <td>Iris-setosa</td>\n",
              "    </tr>\n",
              "    <tr>\n",
              "      <th>4</th>\n",
              "      <td>4.6</td>\n",
              "      <td>3.1</td>\n",
              "      <td>1.5</td>\n",
              "      <td>0.2</td>\n",
              "      <td>Iris-setosa</td>\n",
              "    </tr>\n",
              "    <tr>\n",
              "      <th>5</th>\n",
              "      <td>5.0</td>\n",
              "      <td>3.6</td>\n",
              "      <td>1.4</td>\n",
              "      <td>0.2</td>\n",
              "      <td>Iris-setosa</td>\n",
              "    </tr>\n",
              "    <tr>\n",
              "      <th>6</th>\n",
              "      <td>5.4</td>\n",
              "      <td>3.9</td>\n",
              "      <td>1.7</td>\n",
              "      <td>0.4</td>\n",
              "      <td>Iris-setosa</td>\n",
              "    </tr>\n",
              "    <tr>\n",
              "      <th>7</th>\n",
              "      <td>4.6</td>\n",
              "      <td>3.4</td>\n",
              "      <td>1.4</td>\n",
              "      <td>0.3</td>\n",
              "      <td>Iris-setosa</td>\n",
              "    </tr>\n",
              "    <tr>\n",
              "      <th>8</th>\n",
              "      <td>5.0</td>\n",
              "      <td>3.4</td>\n",
              "      <td>1.5</td>\n",
              "      <td>0.2</td>\n",
              "      <td>Iris-setosa</td>\n",
              "    </tr>\n",
              "    <tr>\n",
              "      <th>9</th>\n",
              "      <td>4.4</td>\n",
              "      <td>2.9</td>\n",
              "      <td>1.4</td>\n",
              "      <td>0.2</td>\n",
              "      <td>Iris-setosa</td>\n",
              "    </tr>\n",
              "    <tr>\n",
              "      <th>10</th>\n",
              "      <td>4.9</td>\n",
              "      <td>3.1</td>\n",
              "      <td>1.5</td>\n",
              "      <td>0.1</td>\n",
              "      <td>Iris-setosa</td>\n",
              "    </tr>\n",
              "  </tbody>\n",
              "</table>\n",
              "</div>"
            ],
            "text/plain": [
              "    SepalLengthCm  SepalWidthCm  PetalLengthCm  PetalWidthCm      Species\n",
              "Id                                                                       \n",
              "1             5.1           3.5            1.4           0.2  Iris-setosa\n",
              "2             4.9           3.0            1.4           0.2  Iris-setosa\n",
              "3             4.7           3.2            1.3           0.2  Iris-setosa\n",
              "4             4.6           3.1            1.5           0.2  Iris-setosa\n",
              "5             5.0           3.6            1.4           0.2  Iris-setosa\n",
              "6             5.4           3.9            1.7           0.4  Iris-setosa\n",
              "7             4.6           3.4            1.4           0.3  Iris-setosa\n",
              "8             5.0           3.4            1.5           0.2  Iris-setosa\n",
              "9             4.4           2.9            1.4           0.2  Iris-setosa\n",
              "10            4.9           3.1            1.5           0.1  Iris-setosa"
            ]
          },
          "metadata": {
            "tags": []
          },
          "execution_count": 43
        }
      ]
    },
    {
      "cell_type": "code",
      "metadata": {
        "colab": {
          "base_uri": "https://localhost:8080/"
        },
        "id": "9oggR3MESdQ9",
        "outputId": "52c9f122-8187-44a2-b838-037d19485cb8"
      },
      "source": [
        "iris_df.info()"
      ],
      "execution_count": 44,
      "outputs": [
        {
          "output_type": "stream",
          "text": [
            "<class 'pandas.core.frame.DataFrame'>\n",
            "Int64Index: 150 entries, 1 to 150\n",
            "Data columns (total 5 columns):\n",
            " #   Column         Non-Null Count  Dtype  \n",
            "---  ------         --------------  -----  \n",
            " 0   SepalLengthCm  150 non-null    float64\n",
            " 1   SepalWidthCm   150 non-null    float64\n",
            " 2   PetalLengthCm  150 non-null    float64\n",
            " 3   PetalWidthCm   150 non-null    float64\n",
            " 4   Species        150 non-null    object \n",
            "dtypes: float64(4), object(1)\n",
            "memory usage: 7.0+ KB\n"
          ],
          "name": "stdout"
        }
      ]
    },
    {
      "cell_type": "markdown",
      "metadata": {
        "id": "quNXPMoYa-Kl"
      },
      "source": [
        "# **VISUALIZING DATA**"
      ]
    },
    {
      "cell_type": "code",
      "metadata": {
        "colab": {
          "base_uri": "https://localhost:8080/",
          "height": 300
        },
        "id": "hgQiIufaVmtr",
        "outputId": "ce3603a3-7e87-466e-aa9f-77e667c734b2"
      },
      "source": [
        "# Finding the optimum number of clusters for k-means classification\r\n",
        "x = iris_df.iloc[:, [0, 1]].values\r\n",
        "\r\n",
        "#Creating an empty list for Total Variance\r\n",
        "t_v = [] \r\n",
        "\r\n",
        "for i in range(1,11):\r\n",
        "    kmeans = KMeans(n_clusters = i)\r\n",
        "    kmeans.fit(x)\r\n",
        "    t_v.append(kmeans.inertia_)\r\n",
        "    \r\n",
        "#Plotting THE ELBOW POINT GRAPH to get the k-value\r\n",
        "plt.plot( range(1,11) , t_v, c='orange')\r\n",
        "plt.title('ELBOW METHOD',fontsize = 16)\r\n",
        "style.use('ggplot')\r\n",
        "style.use('dark_background')\r\n",
        "plt.xlabel('Number of clusters - k',fontsize = 12)\r\n",
        "plt.ylabel('Reduction in Variance', fontsize = 12) \r\n",
        "plt.show()"
      ],
      "execution_count": 45,
      "outputs": [
        {
          "output_type": "display_data",
          "data": {
            "image/png": "[encoded data removed]",
            "text/plain": [
              "<Figure size 432x288 with 1 Axes>"
            ]
          },
          "metadata": {
            "tags": []
          }
        }
      ]
    },
    {
      "cell_type": "code",
      "metadata": {
        "id": "FrIADPyCZIEx"
      },
      "source": [
        "# From the ELBOW POINT we got our k value, i.e k = 3\r\n",
        "kmeans = KMeans(n_clusters = 3)\r\n",
        "number_of_clusters = kmeans.fit_predict(x)"
      ],
      "execution_count": 46,
      "outputs": []
    },
    {
      "cell_type": "code",
      "metadata": {
        "colab": {
          "base_uri": "https://localhost:8080/",
          "height": 427
        },
        "id": "1Qu-fpd2ZM7L",
        "outputId": "269bda74-a122-4c5b-abb0-ee0f87448264"
      },
      "source": [
        "# PLotting for Clusters\r\n",
        "plt.figure(figsize=[6,6])\r\n",
        "plt.title('Clusters of Iris', fontsize = 16)\r\n",
        "plt.xlabel('Sepal Length in cm', fontsize = 14)\r\n",
        "plt.ylabel('Sepal Width in cm', fontsize = 14)\r\n",
        "style.use('dark_background')\r\n",
        "\r\n",
        "plt.scatter(x[number_of_clusters == 0, 0], x[number_of_clusters == 0, 1],s = 100, c = 'blue', label = 'Iris-setosa')\r\n",
        "plt.scatter(x[number_of_clusters == 1, 0], x[number_of_clusters == 1, 1],s = 100, c = 'green', label = 'Iris-versicolour')\r\n",
        "plt.scatter(x[number_of_clusters == 2, 0], x[number_of_clusters == 2, 1],s = 100, c = 'red', label = 'Iris-virginica')\r\n",
        "\r\n",
        "# Plotting for Centroid\r\n",
        "plt.scatter(kmeans.cluster_centers_[:, 0], kmeans.cluster_centers_[:,1],s = 150, c = 'yellow', label = 'Centroids')\r\n",
        "\r\n",
        "plt.legend()"
      ],
      "execution_count": 47,
      "outputs": [
        {
          "output_type": "execute_result",
          "data": {
            "text/plain": [
              "<matplotlib.legend.Legend at 0x7fe09587c518>"
            ]
          },
          "metadata": {
            "tags": []
          },
          "execution_count": 47
        },
        {
          "output_type": "display_data",
          "data": {
            "image/png": "[encoded data removed]",
            "text/plain": [
              "<Figure size 432x432 with 1 Axes>"
            ]
          },
          "metadata": {
            "tags": []
          }
        }
      ]
    },
    {
      "cell_type": "markdown",
      "metadata": {
        "id": "y08P0EcvbTAd"
      },
      "source": [
        "# **Thank YOU!**"
      ]
    }
  ]
}